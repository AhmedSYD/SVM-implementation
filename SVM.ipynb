{
 "cells": [
  {
   "cell_type": "markdown",
   "metadata": {
    "collapsed": true
   },
   "source": [
    "### id:1300121 &nbsp; &nbsp; email:hamadaa_ahmed2011@yahoo.com   &nbsp; &nbsp;      أحمد سيد أحمد محمد"
   ]
  },
  {
   "cell_type": "code",
   "execution_count": 117,
   "metadata": {
    "collapsed": true
   },
   "outputs": [],
   "source": [
    "import matplotlib.pyplot as plt\n",
    "import numpy as np\n",
    "import pickle\n",
    "from cvxopt import matrix\n",
    "from cvxopt import solvers\n",
    "from sklearn.utils import shuffle\n",
    "import matplotlib.pyplot as plt\n",
    "from sklearn.naive_bayes import GaussianNB\n",
    "%matplotlib inline"
   ]
  },
  {
   "cell_type": "markdown",
   "metadata": {},
   "source": [
    "# implement SVM:\n",
    "###  select polynomial kernal:"
   ]
  },
  {
   "cell_type": "code",
   "execution_count": 97,
   "metadata": {},
   "outputs": [],
   "source": [
    "class Support_Vector_Machine:\n",
    "    def __init__(self):\n",
    "        pass\n",
    "      \n",
    "\n",
    "    def polynomial_kernel(self,x, y, d=3):\n",
    "       return (1 + np.dot(x, y)) ** d\n",
    "\n",
    "    # train\n",
    "    def fit(self,x, y,d=3): \n",
    "        NUM = x.shape[0]\n",
    "        DIM = x.shape[1]\n",
    "        # we'll solve the dual\n",
    "        # obtain the kernel\n",
    "        K = np.zeros((NUM, NUM))\n",
    "        for i in range(NUM):\n",
    "            for j in range(NUM):\n",
    "                K[i,j] = self.polynomial_kernel(x[i], x[j],d) \n",
    "\n",
    "\n",
    "\n",
    "        P = matrix(np.outer(y,y) * K)\n",
    "        q = matrix(-np.ones((NUM, 1)))\n",
    "        G = matrix(-np.eye(NUM))\n",
    "        h = matrix(np.zeros(NUM))\n",
    "        A = matrix(y, (1,NUM))\n",
    "        b = matrix(0.0)\n",
    "        solvers.options['show_progress'] = False\n",
    "        sol = solvers.qp(P, q, G, h, A, b)\n",
    "        alphas = np.array(sol['x'])\n",
    "        w = np.sum(alphas * y[:, None] * x, axis = 0)\n",
    "        cond = (alphas > 1e-7).reshape(-1)\n",
    "        ind = np.arange(len(alphas))[cond]\n",
    "        self.x1=x[cond]\n",
    "        self.y1=y[cond]\n",
    "        self.a1=alphas[cond]\n",
    "        self.b=0\n",
    "        for n in range(len(self.a1)):\n",
    "            self.b += self.y1[n]\n",
    "            self.b -= np.sum(self.a1 * self.y1* K[ind[n],cond])\n",
    "        self.b /= (len(self.a1)+0.0001)  \n",
    "        return alphas\n",
    "\n",
    "    def predict1(self,X,d=3):\n",
    "        y_predict = np.zeros(X.shape[0])\n",
    "        for i in range(X.shape[0]):\n",
    "            s = 0\n",
    "            for a, sv_y, sv in zip(self.a1, self.y1, self.x1):\n",
    "                s += a * sv_y * self.polynomial_kernel(X[i], sv,d)\n",
    "            y_predict[i] = s\n",
    "        pred=np.sign(y_predict + self.b)\n",
    "\n",
    "        return pred\n",
    "    \n",
    "    \n",
    "    def accuracy1(self,pred,y):\n",
    "        temp=np.zeros((y.shape[0],1))\n",
    "        for i in range(y.shape[0]-1):\n",
    "            temp[i]=int(pred[i]==y[i])\n",
    "            \n",
    "        accur= np.sum(temp)/y.shape[0]\n",
    "        return accur\n",
    "    \n",
    "    def error_pred(self,pred,y):\n",
    "        err=1-(self.accuracy1(pred,y))\n",
    "        return err"
   ]
  },
  {
   "cell_type": "markdown",
   "metadata": {},
   "source": [
    "# generate dataset:"
   ]
  },
  {
   "cell_type": "code",
   "execution_count": 109,
   "metadata": {
    "collapsed": true
   },
   "outputs": [],
   "source": [
    "coav=np.identity(50)\n",
    "mean1=np.ones(50)\n",
    "mean2=np.ones(50)*-1\n",
    "\n",
    "posExample= np.random.multivariate_normal(mean1, coav, (5000,))\n",
    "negExample= np.random.multivariate_normal(mean2, coav, (5000,))\n",
    "y1 =  np.ones((posExample.shape[0],))\n",
    "y2 = -np.ones((negExample.shape[0],))\n",
    "x = np.concatenate((posExample, negExample), axis = 0)\n",
    "y = np.concatenate((y1, y2), axis = 0)\n",
    "\n",
    "\n"
   ]
  },
  {
   "cell_type": "markdown",
   "metadata": {},
   "source": [
    "# polynomial kernal:-"
   ]
  },
  {
   "cell_type": "markdown",
   "metadata": {},
   "source": [
    "## 1-1- training set=1000"
   ]
  },
  {
   "cell_type": "code",
   "execution_count": 44,
   "metadata": {},
   "outputs": [],
   "source": [
    "x_shuffle, y_shuffle = shuffle(x, y)\n",
    "x_train=x_shuffle[0:1000,:]\n",
    "y_train=y_shuffle[0:1000]\n",
    "x_test=x_shuffle[1000:10000,:]\n",
    "y_test=y_shuffle[1000:10000]\n",
    "svm=Support_Vector_Machine()\n",
    "\n",
    "aphas =svm.fit(x_train, y_train)"
   ]
  },
  {
   "cell_type": "code",
   "execution_count": 45,
   "metadata": {},
   "outputs": [
    {
     "name": "stdout",
     "output_type": "stream",
     "text": [
      "[ 0.50011111]\n",
      "[ 0.25677778]\n",
      "[ 0.33255556]\n",
      "[ 0.30622222]\n",
      "[ 0.29322222]\n",
      "[ 0.28911111]\n",
      "[ 0.292]\n",
      "[ 0.29644444]\n",
      "[ 0.30177778]\n",
      "[ 0.30455556]\n"
     ]
    }
   ],
   "source": [
    "d_values=[2,4,6,8,10,12,14,16,18,20]\n",
    "error=np.zeros((10,1))\n",
    "ind=0\n",
    "for d in d_values:\n",
    "    pred=svm.predict1(x_test,d)\n",
    "    error[ind]=svm.error_pred(pred,y_test)\n",
    "    print(error[ind])\n",
    "    ind=ind+1\n"
   ]
  },
  {
   "cell_type": "code",
   "execution_count": 48,
   "metadata": {},
   "outputs": [
    {
     "name": "stdout",
     "output_type": "stream",
     "text": [
      "for minimum error:-\n",
      "degree kernal parameter= 4 minmum error= 0.256777777778\n"
     ]
    },
    {
     "data": {
      "image/png": "[encoded data removed]",
      "text/plain": [
       "<matplotlib.figure.Figure at 0x2d003c40b8>"
      ]
     },
     "metadata": {},
     "output_type": "display_data"
    }
   ],
   "source": [
    "index=np.argmin(error)\n",
    "x0=(index+1)*2\n",
    "y0=np.min(error)\n",
    "plt.plot(d_values,error)\n",
    "plt.plot(x0,y0, 'rx')\n",
    "print(\"for minimum error:-\")\n",
    "print(\"degree kernal parameter=\",x0,\"minmum error=\",y0)"
   ]
  },
  {
   "cell_type": "markdown",
   "metadata": {},
   "source": [
    "## 1-2- training set=2000"
   ]
  },
  {
   "cell_type": "code",
   "execution_count": 49,
   "metadata": {
    "collapsed": true
   },
   "outputs": [],
   "source": [
    "x_shuffle, y_shuffle = shuffle(x, y)\n",
    "x_train=x_shuffle[0:2000,:]\n",
    "y_train=y_shuffle[0:2000]\n",
    "x_test=x_shuffle[2000:10000,:]\n",
    "y_test=y_shuffle[2000:10000]\n",
    "svm=Support_Vector_Machine()\n",
    "\n",
    "aphas =svm.fit(x_train, y_train)"
   ]
  },
  {
   "cell_type": "code",
   "execution_count": 50,
   "metadata": {},
   "outputs": [
    {
     "name": "stdout",
     "output_type": "stream",
     "text": [
      "[ 0.500125]\n",
      "[ 0.2865]\n",
      "[ 0.418625]\n",
      "[ 0.39325]\n",
      "[ 0.37225]\n",
      "[ 0.357375]\n",
      "[ 0.350375]\n",
      "[ 0.347875]\n",
      "[ 0.34675]\n",
      "[ 0.34525]\n"
     ]
    }
   ],
   "source": [
    "d_values=[2,4,6,8,10,12,14,16,18,20]\n",
    "error=np.zeros((10,1))\n",
    "ind=0\n",
    "for d in d_values:\n",
    "    pred=svm.predict1(x_test,d)\n",
    "    error[ind]=svm.error_pred(pred,y_test)\n",
    "    print(error[ind])\n",
    "    ind=ind+1"
   ]
  },
  {
   "cell_type": "code",
   "execution_count": 51,
   "metadata": {},
   "outputs": [
    {
     "name": "stdout",
     "output_type": "stream",
     "text": [
      "for minimum error:-\n",
      "degree kernal parameter= 4 minmum error= 0.2865\n"
     ]
    },
    {
     "data": {
      "image/png": "[encoded data removed]",
      "text/plain": [
       "<matplotlib.figure.Figure at 0x2d001ecba8>"
      ]
     },
     "metadata": {},
     "output_type": "display_data"
    }
   ],
   "source": [
    "index=np.argmin(error)\n",
    "x0=(index+1)*2\n",
    "y0=np.min(error)\n",
    "plt.plot(d_values,error)\n",
    "plt.plot(x0,y0, 'rx')\n",
    "print(\"for minimum error:-\")\n",
    "print(\"degree kernal parameter=\",x0,\"minmum error=\",y0)"
   ]
  },
  {
   "cell_type": "markdown",
   "metadata": {
    "collapsed": true
   },
   "source": [
    "## 1-3- training set=3000"
   ]
  },
  {
   "cell_type": "code",
   "execution_count": 53,
   "metadata": {},
   "outputs": [],
   "source": [
    "x_shuffle, y_shuffle = shuffle(x, y)\n",
    "x_train=x_shuffle[0:3000,:]\n",
    "y_train=y_shuffle[0:3000]\n",
    "x_test=x_shuffle[3000:10000,:]\n",
    "y_test=y_shuffle[3000:10000]\n",
    "svm=Support_Vector_Machine()\n",
    "\n",
    "aphas =svm.fit(x_train, y_train)"
   ]
  },
  {
   "cell_type": "code",
   "execution_count": 54,
   "metadata": {},
   "outputs": [
    {
     "name": "stdout",
     "output_type": "stream",
     "text": [
      "[ 0.50285714]\n",
      "[ 0.31742857]\n",
      "[ 0.43642857]\n",
      "[ 0.41685714]\n",
      "[ 0.39771429]\n",
      "[ 0.38257143]\n",
      "[ 0.36857143]\n",
      "[ 0.35985714]\n",
      "[ 0.35414286]\n",
      "[ 0.35114286]\n"
     ]
    }
   ],
   "source": [
    "d_values=[2,4,6,8,10,12,14,16,18,20]\n",
    "error=np.zeros((10,1))\n",
    "ind=0\n",
    "for d in d_values:\n",
    "    pred=svm.predict1(x_test,d)\n",
    "    error[ind]=svm.error_pred(pred,y_test)\n",
    "    print(error[ind])\n",
    "    ind=ind+1"
   ]
  },
  {
   "cell_type": "code",
   "execution_count": 55,
   "metadata": {},
   "outputs": [
    {
     "name": "stdout",
     "output_type": "stream",
     "text": [
      "for minimum error:-\n",
      "degree kernal parameter= 4 minmum error= 0.317428571429\n"
     ]
    },
    {
     "data": {
      "image/png": "[encoded data removed]",
      "text/plain": [
       "<matplotlib.figure.Figure at 0x2d01874c50>"
      ]
     },
     "metadata": {},
     "output_type": "display_data"
    }
   ],
   "source": [
    "index=np.argmin(error)\n",
    "x0=(index+1)*2\n",
    "y0=np.min(error)\n",
    "plt.plot(d_values,error)\n",
    "plt.plot(x0,y0, 'rx')\n",
    "print(\"for minimum error:-\")\n",
    "print(\"degree kernal parameter=\",x0,\"minmum error=\",y0)"
   ]
  },
  {
   "cell_type": "markdown",
   "metadata": {},
   "source": [
    "## 1-4- training set=4000"
   ]
  },
  {
   "cell_type": "code",
   "execution_count": 56,
   "metadata": {
    "collapsed": true
   },
   "outputs": [],
   "source": [
    "x_shuffle, y_shuffle = shuffle(x, y)\n",
    "x_train=x_shuffle[0:4000,:]\n",
    "y_train=y_shuffle[0:4000]\n",
    "x_test=x_shuffle[4000:10000,:]\n",
    "y_test=y_shuffle[4000:10000]\n",
    "svm=Support_Vector_Machine()\n",
    "\n",
    "aphas =svm.fit(x_train, y_train)"
   ]
  },
  {
   "cell_type": "code",
   "execution_count": 57,
   "metadata": {},
   "outputs": [
    {
     "name": "stdout",
     "output_type": "stream",
     "text": [
      "[ 0.4985]\n",
      "[ 0.1765]\n",
      "[ 0.1695]\n",
      "[ 0.17433333]\n",
      "[ 0.18366667]\n",
      "[ 0.20416667]\n",
      "[ 0.22383333]\n",
      "[ 0.24166667]\n",
      "[ 0.25283333]\n",
      "[ 0.2625]\n"
     ]
    }
   ],
   "source": [
    "d_values=[2,4,6,8,10,12,14,16,18,20]\n",
    "error=np.zeros((10,1))\n",
    "ind=0\n",
    "for d in d_values:\n",
    "    pred=svm.predict1(x_test,d)\n",
    "    error[ind]=svm.error_pred(pred,y_test)\n",
    "    print(error[ind])\n",
    "    ind=ind+1"
   ]
  },
  {
   "cell_type": "code",
   "execution_count": 59,
   "metadata": {},
   "outputs": [
    {
     "name": "stdout",
     "output_type": "stream",
     "text": [
      "for minimum error:-\n",
      "degree kernal parameter= 6 minmum error= 0.1695\n"
     ]
    },
    {
     "data": {
      "image/png": "[encoded data removed]",
      "text/plain": [
       "<matplotlib.figure.Figure at 0x2d0199c908>"
      ]
     },
     "metadata": {},
     "output_type": "display_data"
    }
   ],
   "source": [
    "index=np.argmin(error)\n",
    "x0=(index+1)*2\n",
    "y0=np.min(error)\n",
    "plt.plot(d_values,error)\n",
    "plt.plot(x0,y0, 'rx')\n",
    "print(\"for minimum error:-\")\n",
    "print(\"degree kernal parameter=\",x0,\"minmum error=\",y0)"
   ]
  },
  {
   "cell_type": "markdown",
   "metadata": {},
   "source": [
    "## 1-5- training set=5000"
   ]
  },
  {
   "cell_type": "code",
   "execution_count": 61,
   "metadata": {
    "collapsed": true
   },
   "outputs": [],
   "source": [
    "x_shuffle, y_shuffle = shuffle(x, y)\n",
    "x_train=x_shuffle[0:5000,:]\n",
    "y_train=y_shuffle[0:5000]\n",
    "x_test=x_shuffle[5000:10000,:]\n",
    "y_test=y_shuffle[5000:10000]\n",
    "svm=Support_Vector_Machine()\n",
    "\n",
    "aphas =svm.fit(x_train, y_train)"
   ]
  },
  {
   "cell_type": "code",
   "execution_count": 62,
   "metadata": {},
   "outputs": [
    {
     "name": "stdout",
     "output_type": "stream",
     "text": [
      "[ 0.5014]\n",
      "[ 0.3362]\n",
      "[ 0.3988]\n",
      "[ 0.3718]\n",
      "[ 0.3512]\n",
      "[ 0.3362]\n",
      "[ 0.331]\n",
      "[ 0.3284]\n",
      "[ 0.3262]\n",
      "[ 0.3244]\n"
     ]
    }
   ],
   "source": [
    "d_values=[2,4,6,8,10,12,14,16,18,20]\n",
    "error=np.zeros((10,1))\n",
    "ind=0\n",
    "for d in d_values:\n",
    "    pred=svm.predict1(x_test,d)\n",
    "    error[ind]=svm.error_pred(pred,y_test)\n",
    "    print(error[ind])\n",
    "    ind=ind+1"
   ]
  },
  {
   "cell_type": "code",
   "execution_count": 63,
   "metadata": {},
   "outputs": [
    {
     "name": "stdout",
     "output_type": "stream",
     "text": [
      "for minimum error:-\n",
      "degree kernal parameter= 20 minmum error= 0.3244\n"
     ]
    },
    {
     "data": {
      "image/png": "[encoded data removed]",
      "text/plain": [
       "<matplotlib.figure.Figure at 0x2d022157b8>"
      ]
     },
     "metadata": {},
     "output_type": "display_data"
    }
   ],
   "source": [
    "index=np.argmin(error)\n",
    "x0=(index+1)*2\n",
    "y0=np.min(error)\n",
    "plt.plot(d_values,error)\n",
    "plt.plot(x0,y0, 'rx')\n",
    "print(\"for minimum error:-\")\n",
    "print(\"degree kernal parameter=\",x0,\"minmum error=\",y0)"
   ]
  },
  {
   "cell_type": "markdown",
   "metadata": {},
   "source": [
    "## plot the training and test errors as a function of the training set size:-"
   ]
  },
  {
   "cell_type": "markdown",
   "metadata": {},
   "source": [
    "### for fixed degreee of polynomial kernal=3"
   ]
  },
  {
   "cell_type": "code",
   "execution_count": 32,
   "metadata": {},
   "outputs": [
    {
     "name": "stdout",
     "output_type": "stream",
     "text": [
      "1000\n",
      "end: 1000\n",
      "end error_train: [ 0.524]\n",
      "end error_test: [ 0.49744444]\n",
      "2000\n",
      "end: 2000\n",
      "end error_train: [ 0.484]\n",
      "end error_test: [ 0.501]\n",
      "3000\n",
      "end: 3000\n",
      "end error_train: [ 0.30766667]\n",
      "end error_test: [ 0.33228571]\n",
      "4000\n",
      "end: 4000\n",
      "end error_train: [ 0.0615]\n",
      "end error_test: [ 0.06133333]\n",
      "5000\n",
      "end: 5000\n",
      "end error_train: [ 0.0328]\n",
      "end error_test: [ 0.0338]\n"
     ]
    }
   ],
   "source": [
    "x_shuffle, y_shuffle = shuffle(x, y)\n",
    "train_size=[1000,2000,3000,4000,5000]\n",
    "svm=Support_Vector_Machine()\n",
    "error_train=np.zeros((5,1))\n",
    "error_test=np.zeros((5,1))\n",
    "ind=0\n",
    "for sz in train_size:\n",
    "    print(sz)\n",
    "    x_train=x_shuffle[0:sz,:]\n",
    "    y_train=y_shuffle[0:sz]\n",
    "    x_test=x_shuffle[sz:10000,:]\n",
    "    y_test=y_shuffle[sz:10000]\n",
    "\n",
    "    aphas =svm.fit(x_train, y_train) \n",
    "    print(\"end:\",sz)\n",
    "    ###############test\n",
    "    pred=svm.predict1(x_test)\n",
    "    \n",
    "    error_test[ind]=svm.error_pred(pred,y_test)\n",
    "    ###########train\n",
    "    pred=svm.predict1(x_train)\n",
    "    error_train[ind]=svm.error_pred(pred,y_train)\n",
    "    print(\"end error_train:\",error_train[ind])\n",
    "    print(\"end error_test:\",error_test[ind])\n",
    "    ind=ind+1\n"
   ]
  },
  {
   "cell_type": "code",
   "execution_count": 41,
   "metadata": {},
   "outputs": [
    {
     "name": "stdout",
     "output_type": "stream",
     "text": [
      "asymptotic test error=0 as for infinite data error decrease and reach to zero\n"
     ]
    },
    {
     "data": {
      "image/png": "[encoded data removed]",
      "text/plain": [
       "<matplotlib.figure.Figure at 0x2d01780ac8>"
      ]
     },
     "metadata": {},
     "output_type": "display_data"
    }
   ],
   "source": [
    "\n",
    "plt.plot(train_size,error_train,label='train error')\n",
    "line_down, = plt.plot(train_size,error_test,label='test error')\n",
    "plt.legend()\n",
    "print(\"asymptotic test error=0 as for infinite data error decrease and reach to zero\")"
   ]
  },
  {
   "cell_type": "markdown",
   "metadata": {},
   "source": [
    "## bayes error:\n",
    "###### for fixed kernal parameter d=3 and using 5000 training dataset"
   ]
  },
  {
   "cell_type": "code",
   "execution_count": 110,
   "metadata": {
    "collapsed": true
   },
   "outputs": [],
   "source": [
    "x_shuffle, y_shuffle = shuffle(x, y)\n",
    "x_train=x_shuffle[0:5000,:]\n",
    "y_train=y_shuffle[0:5000]\n",
    "x_test=x_shuffle[5000:10000,:]\n",
    "y_test=y_shuffle[5000:10000]"
   ]
  },
  {
   "cell_type": "markdown",
   "metadata": {},
   "source": [
    "###  error for bayes:"
   ]
  },
  {
   "cell_type": "code",
   "execution_count": 116,
   "metadata": {},
   "outputs": [
    {
     "name": "stdout",
     "output_type": "stream",
     "text": [
      "error by bayes equal: 0.0\n"
     ]
    }
   ],
   "source": [
    "model = GaussianNB()\n",
    "model.fit(x_train, y_train)\n",
    "accur=model.score(x_test, y_test)\n",
    "print(\"error by bayes equal: \"+str(1-accur))"
   ]
  },
  {
   "cell_type": "markdown",
   "metadata": {},
   "source": [
    "### error for svm:\n"
   ]
  },
  {
   "cell_type": "code",
   "execution_count": 114,
   "metadata": {},
   "outputs": [],
   "source": [
    "svm=Support_Vector_Machine()\n",
    "aphas =svm.fit(x_train, y_train)\n"
   ]
  },
  {
   "cell_type": "code",
   "execution_count": 115,
   "metadata": {},
   "outputs": [
    {
     "name": "stdout",
     "output_type": "stream",
     "text": [
      "error by svm  equal:0.4994\n"
     ]
    }
   ],
   "source": [
    "pred=svm.predict1(x_test)\n",
    "error=svm.error_pred(pred,y_test)\n",
    "print(\"error by svm  equal:\"+str(error))"
   ]
  },
  {
   "cell_type": "code",
   "execution_count": null,
   "metadata": {
    "collapsed": true
   },
   "outputs": [],
   "source": []
  }
 ],
 "metadata": {
  "kernelspec": {
   "display_name": "Python 3",
   "language": "python",
   "name": "python3"
  },
  "language_info": {
   "codemirror_mode": {
    "name": "ipython",
    "version": 3
   },
   "file_extension": ".py",
   "mimetype": "text/x-python",
   "name": "python",
   "nbconvert_exporter": "python",
   "pygments_lexer": "ipython3",
   "version": "3.6.2"
  }
 },
 "nbformat": 4,
 "nbformat_minor": 2
}
